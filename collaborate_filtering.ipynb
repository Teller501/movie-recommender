{
  "nbformat": 4,
  "nbformat_minor": 0,
  "metadata": {
    "colab": {
      "provenance": []
    },
    "kernelspec": {
      "name": "python3",
      "display_name": "Python 3"
    },
    "language_info": {
      "name": "python"
    }
  },
  "cells": [
    {
      "cell_type": "code",
      "execution_count": null,
      "metadata": {
        "colab": {
          "base_uri": "https://localhost:8080/"
        },
        "id": "q4qMkrUuf0DD",
        "outputId": "d42c9b2a-fb24-41d8-a17c-8f0287bf456f"
      },
      "outputs": [
        {
          "output_type": "stream",
          "name": "stdout",
          "text": [
            "Requirement already satisfied: scikit-surprise in /usr/local/lib/python3.10/dist-packages (1.1.3)\n",
            "Requirement already satisfied: joblib>=1.0.0 in /usr/local/lib/python3.10/dist-packages (from scikit-surprise) (1.4.0)\n",
            "Requirement already satisfied: numpy>=1.17.3 in /usr/local/lib/python3.10/dist-packages (from scikit-surprise) (1.25.2)\n",
            "Requirement already satisfied: scipy>=1.3.2 in /usr/local/lib/python3.10/dist-packages (from scikit-surprise) (1.11.4)\n"
          ]
        }
      ],
      "source": [
        "import pandas as pd\n",
        "!pip install scikit-surprise\n",
        "from surprise import KNNBasic\n",
        "from surprise import Dataset\n",
        "from surprise import Reader\n",
        "from surprise import accuracy\n",
        "from surprise.model_selection import train_test_split"
      ]
    },
    {
      "cell_type": "code",
      "source": [
        "# Load movies and ratings data\n",
        "movies = pd.read_csv('movies.csv')\n",
        "ratings = pd.read_csv('ratings.csv')"
      ],
      "metadata": {
        "id": "vCdo3SloggAg"
      },
      "execution_count": null,
      "outputs": []
    },
    {
      "cell_type": "code",
      "source": [
        "# Load the data into Surprise\n",
        "reader = Reader(rating_scale=(1, 5))\n",
        "data = Dataset.load_from_df(ratings[['userId', 'movieId', 'rating']], reader)\n",
        "trainset, testset = train_test_split(data, test_size=0.25)"
      ],
      "metadata": {
        "id": "d-NNRY_vgkVj"
      },
      "execution_count": null,
      "outputs": []
    },
    {
      "cell_type": "code",
      "source": [
        "algo = KNNBasic(sim_options={'name': 'pearson', 'user_based': True})\n",
        "algo.fit(trainset)"
      ],
      "metadata": {
        "colab": {
          "base_uri": "https://localhost:8080/"
        },
        "id": "rZDHj1m6gnEU",
        "outputId": "08e77526-a6f2-4350-ea69-d1419564488f"
      },
      "execution_count": null,
      "outputs": [
        {
          "output_type": "stream",
          "name": "stdout",
          "text": [
            "Computing the pearson similarity matrix...\n",
            "Done computing similarity matrix.\n"
          ]
        },
        {
          "output_type": "execute_result",
          "data": {
            "text/plain": [
              "<surprise.prediction_algorithms.knns.KNNBasic at 0x78a4df3a3be0>"
            ]
          },
          "metadata": {},
          "execution_count": 23
        }
      ]
    },
    {
      "cell_type": "code",
      "source": [
        "# Predict ratings on the testset\n",
        "predictions = algo.test(testset)\n",
        "\n",
        "# Compute and print RMSE\n",
        "rmse = accuracy.rmse(predictions)\n",
        "print(f\"Root Mean Squared Error: {rmse}\")\n",
        "\n",
        "# Compute and print MAE\n",
        "mae = accuracy.mae(predictions)\n",
        "print(f\"Mean Absolute Error: {mae}\")"
      ],
      "metadata": {
        "colab": {
          "base_uri": "https://localhost:8080/"
        },
        "id": "uqEb2Mvvm--o",
        "outputId": "6ba8dff7-ef37-492d-c3ec-95a79082205c"
      },
      "execution_count": null,
      "outputs": [
        {
          "output_type": "stream",
          "name": "stdout",
          "text": [
            "RMSE: 0.9732\n",
            "Root Mean Squared Error: 0.973224539913668\n",
            "MAE:  0.7502\n",
            "Mean Absolute Error: 0.750174555748855\n"
          ]
        }
      ]
    },
    {
      "cell_type": "code",
      "source": [
        "def predict_rating(user_id, movie_id):\n",
        "    try:\n",
        "        # Make prediction\n",
        "        prediction = algo.predict(user_id, movie_id)\n",
        "        return prediction.est\n",
        "    except PredictionImpossible:\n",
        "        return None"
      ],
      "metadata": {
        "id": "9D1PRKavhHnY"
      },
      "execution_count": null,
      "outputs": []
    },
    {
      "cell_type": "code",
      "source": [
        "def get_top_n_recommendations(user_id, n=10):\n",
        "    # Get a list of all movies\n",
        "    all_movies = movies['movieId'].unique()\n",
        "    rated_movies = ratings[ratings['userId'] == user_id]['movieId'].unique()\n",
        "    unrated_movies = [movie for movie in all_movies if movie not in rated_movies]\n",
        "\n",
        "    # Predict ratings for all unrated movies\n",
        "    predictions = []\n",
        "    for movie_id in unrated_movies:\n",
        "        predicted_rating = predict_rating(user_id, movie_id)\n",
        "        if predicted_rating is not None:\n",
        "            predictions.append((movie_id, predicted_rating))\n",
        "\n",
        "    # Sort the predictions by estimated rating in descending order\n",
        "    predictions.sort(key=lambda x: x[1], reverse=True)\n",
        "\n",
        "    # Return the top N movies with the highest predicted ratings\n",
        "    top_n_movies = predictions[:n]\n",
        "    top_n_movie_ids = [movie[0] for movie in top_n_movies]\n",
        "    return movies[movies['movieId'].isin(top_n_movie_ids)]\n"
      ],
      "metadata": {
        "id": "vtXVmi1Xg9ys"
      },
      "execution_count": null,
      "outputs": []
    },
    {
      "cell_type": "code",
      "source": [
        "def add_new_user_ratings(new_user_id, movie_ratings):\n",
        "    \"\"\"Add ratings for a new user.\"\"\"\n",
        "    # movie_ratings should be a list of tuples (movie_id, rating)\n",
        "    new_ratings = pd.DataFrame({\n",
        "        'userId': [new_user_id] * len(movie_ratings),\n",
        "        'movieId': [mr[0] for mr in movie_ratings],\n",
        "        'rating': [mr[1] for mr in movie_ratings]\n",
        "    })\n",
        "    return pd.concat([ratings, new_ratings], ignore_index=True)"
      ],
      "metadata": {
        "id": "r7jo121Ii0c5"
      },
      "execution_count": null,
      "outputs": []
    },
    {
      "cell_type": "code",
      "source": [
        "# Example new user data\n",
        "new_user_id = 5000\n",
        "new_user_ratings = [(1, 4), (2, 5), (3, 3)]  # User has rated movies 1, 2, and 3\n",
        "\n",
        "# Add new user ratings to the dataset\n",
        "ratings = add_new_user_ratings(new_user_id, new_user_ratings)"
      ],
      "metadata": {
        "id": "mvfLNhDbi1JO"
      },
      "execution_count": null,
      "outputs": []
    },
    {
      "cell_type": "code",
      "source": [
        "data = Dataset.load_from_df(ratings[['userId', 'movieId', 'rating']], reader)\n",
        "trainset = data.build_full_trainset()  # Optionally use full dataset for retraining\n",
        "algo.fit(trainset)"
      ],
      "metadata": {
        "colab": {
          "base_uri": "https://localhost:8080/"
        },
        "id": "IbrchVNQi_5-",
        "outputId": "f8e9866a-048f-4cdd-9cc3-57b82985d128"
      },
      "execution_count": null,
      "outputs": [
        {
          "output_type": "stream",
          "name": "stdout",
          "text": [
            "Computing the pearson similarity matrix...\n",
            "Done computing similarity matrix.\n"
          ]
        },
        {
          "output_type": "execute_result",
          "data": {
            "text/plain": [
              "<surprise.prediction_algorithms.knns.KNNBasic at 0x78a4df3a3be0>"
            ]
          },
          "metadata": {},
          "execution_count": 29
        }
      ]
    },
    {
      "cell_type": "code",
      "source": [
        "import pickle"
      ],
      "metadata": {
        "id": "HY45iI071o3r"
      },
      "execution_count": null,
      "outputs": []
    },
    {
      "cell_type": "code",
      "source": [
        "# Save the model to a file\n",
        "with open('model.pkl', 'wb') as file:\n",
        "    pickle.dump(algo, file)"
      ],
      "metadata": {
        "id": "F4oTB8Xz9Fac"
      },
      "execution_count": null,
      "outputs": []
    },
    {
      "cell_type": "code",
      "source": [
        "from google.colab import drive\n",
        "drive.mount('/content/drive')\n"
      ],
      "metadata": {
        "colab": {
          "base_uri": "https://localhost:8080/"
        },
        "id": "V9jHTx589ti8",
        "outputId": "df61f4bd-583e-48c4-8039-c5fd5b80ef99"
      },
      "execution_count": null,
      "outputs": [
        {
          "output_type": "stream",
          "name": "stdout",
          "text": [
            "Drive already mounted at /content/drive; to attempt to forcibly remount, call drive.mount(\"/content/drive\", force_remount=True).\n"
          ]
        }
      ]
    },
    {
      "cell_type": "code",
      "source": [
        "!cp /content/model.pkl /content/drive/MyDrive"
      ],
      "metadata": {
        "id": "8V-eoR2u9wgC"
      },
      "execution_count": null,
      "outputs": []
    }
  ]
}