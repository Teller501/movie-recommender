{
  "nbformat": 4,
  "nbformat_minor": 0,
  "metadata": {
    "colab": {
      "provenance": []
    },
    "kernelspec": {
      "name": "python3",
      "display_name": "Python 3"
    },
    "language_info": {
      "name": "python"
    }
  },
  "cells": [
    {
      "cell_type": "code",
      "source": [
        "from fastai.tabular.all import *\n",
        "from fastai.collab import *"
      ],
      "metadata": {
        "id": "Ha3GGnlT8R6K"
      },
      "execution_count": null,
      "outputs": []
    },
    {
      "cell_type": "code",
      "source": [
        "path = untar_data(URLs.ML_100k)\n",
        "\n",
        "ratings = pd.read_csv(path/'u.data', delimiter='\\t', header=None, names=['user','movie','rating','timestamp'])\n",
        "ratings.head()"
      ],
      "metadata": {
        "id": "As3KHWKP8c7M"
      },
      "execution_count": null,
      "outputs": []
    },
    {
      "cell_type": "code",
      "source": [
        "pd.crosstab(ratings.user, ratings.movie, values=ratings.rating, aggfunc='sum')"
      ],
      "metadata": {
        "id": "pjpXkErX9Ii_"
      },
      "execution_count": null,
      "outputs": []
    },
    {
      "cell_type": "code",
      "source": [
        "movies = pd.read_csv(path/'u.item',  delimiter='|', encoding='latin-1',\n",
        "                         usecols=(0,1), names=('movie','title'), header=None)\n",
        "ratings = ratings.merge(movies)\n",
        "ratings.head()"
      ],
      "metadata": {
        "id": "At_umcK69MTQ"
      },
      "execution_count": null,
      "outputs": []
    },
    {
      "cell_type": "code",
      "source": [
        "dls = CollabDataLoaders.from_df(ratings, item_name='title', bs=64)\n",
        "dls.show_batch()"
      ],
      "metadata": {
        "id": "mFI7-YKs9REA"
      },
      "execution_count": null,
      "outputs": []
    },
    {
      "cell_type": "code",
      "source": [
        "learn = collab_learner(dls, n_factors=50, y_range=(0, 5.5))\n",
        "learn.fit_one_cycle(5, 5e-3, wd=0.1)"
      ],
      "metadata": {
        "id": "2jJiKOOT9Tq3"
      },
      "execution_count": null,
      "outputs": []
    },
    {
      "cell_type": "code",
      "source": [
        "learn.export('movie-recommender.pkl')"
      ],
      "metadata": {
        "id": "s9i3U6PE9_Pv"
      },
      "execution_count": null,
      "outputs": []
    },
    {
      "cell_type": "code",
      "source": [
        "learn = load_learner('movie-recommender.pkl')\n",
        "\n",
        "learn.model"
      ],
      "metadata": {
        "id": "Vkao0kVA-Aq1"
      },
      "execution_count": null,
      "outputs": []
    },
    {
      "cell_type": "code",
      "source": [
        "user_ratings = [(318, 1), (50, 1), (260, 1), (527, 1), (1721, 1), (1685, 5)]"
      ],
      "metadata": {
        "id": "XEjqXgVI-EiS"
      },
      "execution_count": null,
      "outputs": []
    },
    {
      "cell_type": "code",
      "source": [
        "user_ratings_dicts = []\n",
        "for (movie_id, rating) in user_ratings:\n",
        "    user_ratings_dicts.append({\"user\": 10000, \"movie\": movie_id, \"rating\": rating})\n",
        "\n",
        "new_ratings = pd.concat([ratings, pd.DataFrame(user_ratings_dicts)], ignore_index=True)\n",
        "new_ratings.tail()"
      ],
      "metadata": {
        "id": "nfIS6I6T-H84"
      },
      "execution_count": null,
      "outputs": []
    },
    {
      "cell_type": "code",
      "source": [
        "crosstab = pd.crosstab(new_ratings['user'], new_ratings['movie'], values=new_ratings['rating'], aggfunc='sum').fillna(0)\n",
        "crosstab.tail()"
      ],
      "metadata": {
        "id": "uT6tAghO-JWe"
      },
      "execution_count": null,
      "outputs": []
    },
    {
      "cell_type": "code",
      "source": [
        "other_users = crosstab.values[:-1]\n",
        "new_user = crosstab.values[-1].reshape(1, -1)\n",
        "\n",
        "similarities = nn.CosineSimilarity()(tensor(other_users), tensor(new_user))\n",
        "similarities[:5]"
      ],
      "metadata": {
        "id": "qL_5FNci-nZG"
      },
      "execution_count": null,
      "outputs": []
    },
    {
      "cell_type": "code",
      "source": [
        "top5 = similarities.topk(5)\n",
        "top5"
      ],
      "metadata": {
        "id": "8M53HLuw-roq"
      },
      "execution_count": null,
      "outputs": []
    },
    {
      "cell_type": "code",
      "source": [
        "user_vectors = learn.u_weight.weight[1+top5.indices,:]\n",
        "\n",
        "new_user_vector = user_vectors.mean(dim=0, keepdim=True)\n",
        "new_user_vector"
      ],
      "metadata": {
        "id": "ft93VWbLBhGq"
      },
      "execution_count": null,
      "outputs": []
    },
    {
      "cell_type": "code",
      "source": [
        "user_biases = learn.u_bias.weight[1+top5.indices,:]\n",
        "new_user_bias = user_biases.mean()\n",
        "new_user_bias"
      ],
      "metadata": {
        "id": "ftukJYfXBj6D"
      },
      "execution_count": null,
      "outputs": []
    },
    {
      "cell_type": "code",
      "source": [
        "pred_ratings = torch.matmul(new_user_vector, learn.i_weight.weight.T) + learn.i_bias.weight.T + new_user_bias\n",
        "pred_ratings"
      ],
      "metadata": {
        "id": "Yq4GKWPGBmLX"
      },
      "execution_count": null,
      "outputs": []
    },
    {
      "cell_type": "code",
      "source": [
        "top5_ratings = pred_ratings.topk(5)\n",
        "recommendations = learn.classes['title'][top5_ratings.indices.tolist()[0]]\n",
        "\n",
        "for i, movie in enumerate(recommendations):\n",
        "    print(f'{i+1}. {movie}')"
      ],
      "metadata": {
        "colab": {
          "base_uri": "https://localhost:8080/"
        },
        "id": "g6A2S220BoXq",
        "outputId": "bc87e1c1-2e48-42fa-a2e9-3ccd62be899a"
      },
      "execution_count": null,
      "outputs": [
        {
          "output_type": "stream",
          "name": "stdout",
          "text": [
            "1. Schindler's List (1993)\n",
            "2. Shawshank Redemption, The (1994)\n",
            "3. Good Will Hunting (1997)\n",
            "4. Star Wars (1977)\n",
            "5. Wallace & Gromit: The Best of Aardman Animation (1996)\n"
          ]
        }
      ]
    }
  ]
}